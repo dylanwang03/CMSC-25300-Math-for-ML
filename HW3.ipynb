{
  "nbformat": 4,
  "nbformat_minor": 0,
  "metadata": {
    "colab": {
      "provenance": []
    },
    "kernelspec": {
      "name": "python3",
      "display_name": "Python 3"
    },
    "language_info": {
      "name": "python"
    }
  },
  "cells": [
    {
      "cell_type": "code",
      "execution_count": 99,
      "metadata": {
        "id": "3HBgEuMZkjB_"
      },
      "outputs": [],
      "source": [
        "import numpy as np\n",
        "from numpy.linalg import inv\n",
        "import matplotlib.pyplot as plt\n",
        "from matplotlib import colors\n",
        "import scipy.io\n"
      ]
    },
    {
      "cell_type": "code",
      "source": [
        "# Question 2 Part A\n",
        "\n",
        "matrix = np.array([[1, 0],\n",
        "                   [1, 1],\n",
        "                   [1, 3]])\n",
        "\n",
        "\n",
        "inverse = np.linalg.inv(matrix.T@matrix)\n",
        "proj_a = matrix @  inverse @ matrix.T\n",
        "proj_a"
      ],
      "metadata": {
        "colab": {
          "base_uri": "https://localhost:8080/"
        },
        "id": "PXUxSKBuklz_",
        "outputId": "e880ce9f-79ef-46d0-8e3f-9f5aa46b2830"
      },
      "execution_count": 100,
      "outputs": [
        {
          "output_type": "execute_result",
          "data": {
            "text/plain": [
              "array([[ 0.71428571,  0.42857143, -0.14285714],\n",
              "       [ 0.42857143,  0.35714286,  0.21428571],\n",
              "       [-0.14285714,  0.21428571,  0.92857143]])"
            ]
          },
          "metadata": {},
          "execution_count": 100
        }
      ]
    },
    {
      "cell_type": "code",
      "source": [
        "# Question 3 Part B\n",
        "\n",
        "# STARTER CODE\n",
        "\n",
        "# load data, make sure `fisheriris.mat` is in your working directory\n",
        "data = scipy.io.loadmat(\"fisheriris.mat\")\n",
        "X = data['meas']\n",
        "y_text = data['species']\n",
        "\n",
        "############################\n",
        "# YOUR CODE BELOW\n",
        "# Process and assign numerical values to\n",
        "# `y` according to your (a), make sure `y` is a 1d numpy array.\n",
        "# If dimensions are mismatching, you may find `y = y.flatten()` useful.\n",
        "\n",
        "\n",
        "# Compute the least squares weights\n",
        "label_to_number = {'setosa': -1, 'versicolor': 0, 'virginica': 1}\n",
        "\n",
        "y_numerical = [label_to_number[label[0][0]] for label in y_text]\n",
        "y_numerical = np.array(y_numerical).flatten()\n",
        "y_numerical\n",
        "\n",
        "weights = np.linalg.inv(X.T@X)@X.T@y_numerical\n",
        "y_est = X@weights\n",
        "\n",
        "\n",
        "# Compute the residuals\n",
        "residuals = y_numerical - y_est\n",
        "residuals\n",
        "\n",
        "# print(residuals.shape)\n",
        "\n",
        "# Make a plot\n",
        "\n",
        "dot_products = np.zeros(4)\n",
        "for i in range(4):\n",
        "  column = X[:,i]\n",
        "  dot_products[i] = column@residuals\n",
        "\n",
        "print(\"RESIDUALS DOT FEATURE COLUMNS:\")\n",
        "print(np.round(dot_products, decimals = 10))\n",
        "\n",
        "\n"
      ],
      "metadata": {
        "colab": {
          "base_uri": "https://localhost:8080/"
        },
        "id": "TeX-jqy5rvO6",
        "outputId": "78c082d3-1d96-45e0-a5c5-798ed1bff10d"
      },
      "execution_count": 101,
      "outputs": [
        {
          "output_type": "stream",
          "name": "stdout",
          "text": [
            "RESIDUALS DOT FEATURE COLUMNS:\n",
            "[ 0. -0. -0. -0.]\n"
          ]
        }
      ]
    },
    {
      "cell_type": "code",
      "source": [
        "# Question 3 Part C\n",
        "\n",
        "\n",
        "# number of random trials\n",
        "N = 10000\n",
        "# array to store errors\n",
        "errs = np.zeros(N)\n",
        "# size of training set\n",
        "num_train = 40\n",
        "\n",
        "for i in np.arange(N):\n",
        "    # initialize 0-length arrays for the train and holdout indices. These\n",
        "    # arrays will be filled in the inner loop.\n",
        "    idx_train = np.zeros(0, dtype=np.intp)\n",
        "    idx_holdout = np.zeros(0, dtype=np.intp)\n",
        "\n",
        "    # There are 3 label types and 50 samples of each type\n",
        "    for label_type in range(3):\n",
        "        # Choose a random ordering of the 50 samples\n",
        "        r = np.random.permutation(50)\n",
        "        # Add the first num_train indices of the random ordering to\n",
        "        # the idx_train array\n",
        "        idx_train = np.concatenate((idx_train,\n",
        "                                    50 * label_type + r[:num_train]))\n",
        "        # Add the rest of the indices to the idx_holdout array\n",
        "        idx_holdout = np.concatenate((idx_holdout,\n",
        "                                    50 * label_type + r[num_train:]))\n",
        "\n",
        "    # divide data and labels into the train and holdout sets\n",
        "    Xt = X[idx_train]\n",
        "    yt = y_numerical[idx_train]\n",
        "    Xh = X[idx_holdout]\n",
        "    yh = y_numerical[idx_holdout]\n",
        "\n",
        "    ########################\n",
        "    # YOUR CODE BELOW\n",
        "    # Solve for the LS weights\n",
        "\n",
        "    wt = np.linalg.inv(Xt.T@Xt)@Xt.T@yt\n",
        "\n",
        "\n",
        "    # Make predictions using the LS weights\n",
        "    yh_est = Xh@wt\n",
        "\n",
        "    # Turn the real-valued predictions into class labels\n",
        "    yh_rounded = np.round(yh_est)\n",
        "    yh_labels = np.clip(yh_rounded,-1,1)\n",
        "\n",
        "\n",
        "    # Compute the errors\n",
        "\n",
        "    # print(yh_rounded)\n",
        "    # print(yh_labels)\n",
        "    # print()\n",
        "    errs[i] = np.sum(yh_labels != yh)\n",
        "\n",
        "\n",
        "print(np.mean(errs) / 30)\n",
        "\n",
        "plt.hist(errs)\n",
        "plt.xlabel(\"# of errors\")\n",
        "plt.ylabel(\"Counts\")\n",
        "plt.show()\n"
      ],
      "metadata": {
        "colab": {
          "base_uri": "https://localhost:8080/",
          "height": 466
        },
        "id": "Gi_YGgtQLmOx",
        "outputId": "1acf9caa-46f1-4582-e2df-e1fffc216aab"
      },
      "execution_count": 102,
      "outputs": [
        {
          "output_type": "stream",
          "name": "stdout",
          "text": [
            "0.03210333333333333\n"
          ]
        },
        {
          "output_type": "display_data",
          "data": {
            "text/plain": [
              "<Figure size 640x480 with 1 Axes>"
            ],
            "image/png": "[encoded data removed]"
          },
          "metadata": {}
        }
      ]
    },
    {
      "cell_type": "code",
      "source": [
        "\n",
        "# number of random trials\n",
        "N = 1_000\n",
        "# Min / Max size of the training set\n",
        "min_num_train = 4\n",
        "max_num_train = 40\n",
        "\n",
        "# Arrays to store error rates\n",
        "train_errs = np.zeros((max_num_train-min_num_train, N))\n",
        "test_errs = np.zeros((max_num_train-min_num_train, N))\n",
        "\n",
        "n_train_vals = np.arange(min_num_train, max_num_train)\n",
        "\n",
        "\n",
        "for j, n_train in enumerate(n_train_vals):\n",
        "    for i in np.arange(N):\n",
        "        # initialize 0-length arrays for the train and holdout indices.\n",
        "        # These arrays will be filled in the inner loop.\n",
        "        idx_train = np.zeros(0, dtype=np.intp)\n",
        "        idx_holdout = np.zeros(0, dtype=np.intp)\n",
        "\n",
        "        # There are 3 label types and 50 samples of each type\n",
        "        for label_type in range(3):\n",
        "            # Choose a random ordering of the 50 samples\n",
        "            r = np.random.permutation(50)\n",
        "            # Add the first num_train indices of the random ordering to\n",
        "            # the idx_train array\n",
        "            idx_train = np.concatenate((idx_train,\n",
        "                                        50 * label_type + r[:n_train]))\n",
        "            # Add the rest of the indices to the idx_holdout array\n",
        "            idx_holdout = np.concatenate((idx_holdout,\n",
        "                                        50 * label_type + r[n_train:]))\n",
        "\n",
        "        # divide data and labels into the train and holdout sets\n",
        "        Xt = X[idx_train,:]\n",
        "        yt = y_numerical[idx_train]\n",
        "        Xh = X[idx_holdout]\n",
        "        yh = y_numerical[idx_holdout]\n",
        "\n",
        "        ########################\n",
        "        # YOUR CODE BELOW\n",
        "\n",
        "\n",
        "\n",
        "        wt = np.linalg.inv(Xt.T@Xt)@Xt.T@yt\n",
        "\n",
        "\n",
        "        # Make predictions using the LS weights\n",
        "        yh_est = Xh@wt\n",
        "        yh_rounded = np.round(yh_est)\n",
        "        yh_labels = np.clip(yh_rounded,-1,1)\n",
        "\n",
        "        yt_est = Xt@wt\n",
        "        yt_rounded = np.round(yt_est)\n",
        "        yt_labels = np.clip(yt_rounded,-1,1)\n",
        "\n",
        "\n",
        "\n",
        "\n",
        "        # Compute the errors\n",
        "\n",
        "        err_count_test = yh_labels != yh\n",
        "        err_count_train = yt_labels != yt\n",
        "        test_errs[j,i] = np.mean(err_count_test)\n",
        "        train_errs[j,i] = np.mean(err_count_train)\n",
        "\n",
        "\n",
        "\n",
        "###################\n",
        "# YOUR CODE BELOW\n",
        "# Make a plot of the train and test errors as a function of\n",
        "# training set size\n",
        "\n",
        "train_mean = np.mean(train_errs, axis=1)\n",
        "test_mean = np.mean(test_errs, axis=1)\n",
        "\n",
        "plt.plot(n_train_vals, train_mean, '.-', label='Train')\n",
        "plt.plot(n_train_vals, test_mean, '.-', label='Test')\n",
        "plt.legend()\n",
        "plt.xlabel(\"# of Training Samples\")\n",
        "plt.ylabel(\"Error Rate\")\n",
        "plt.show()"
      ],
      "metadata": {
        "colab": {
          "base_uri": "https://localhost:8080/",
          "height": 449
        },
        "id": "eCt1I-PnWsFD",
        "outputId": "3f6082b6-14bd-4717-ad52-3830837570d7"
      },
      "execution_count": 103,
      "outputs": [
        {
          "output_type": "display_data",
          "data": {
            "text/plain": [
              "<Figure size 640x480 with 1 Axes>"
            ],
            "image/png": "[encoded data removed]"
          },
          "metadata": {}
        }
      ]
    },
    {
      "cell_type": "code",
      "source": [
        "# Question 3 Part C\n",
        "\n",
        "X = np.stack((X[:, 0], X[:, 2])).T\n",
        "\n",
        "# number of random trials\n",
        "N = 10000\n",
        "# array to store errors\n",
        "errs = np.zeros(N)\n",
        "# size of training set\n",
        "num_train = 40\n",
        "\n",
        "for i in np.arange(N):\n",
        "    # initialize 0-length arrays for the train and holdout indices. These\n",
        "    # arrays will be filled in the inner loop.\n",
        "    idx_train = np.zeros(0, dtype=np.intp)\n",
        "    idx_holdout = np.zeros(0, dtype=np.intp)\n",
        "\n",
        "    # There are 3 label types and 50 samples of each type\n",
        "    for label_type in range(3):\n",
        "        # Choose a random ordering of the 50 samples\n",
        "        r = np.random.permutation(50)\n",
        "        # Add the first num_train indices of the random ordering to\n",
        "        # the idx_train array\n",
        "        idx_train = np.concatenate((idx_train,\n",
        "                                    50 * label_type + r[:num_train]))\n",
        "        # Add the rest of the indices to the idx_holdout array\n",
        "        idx_holdout = np.concatenate((idx_holdout,\n",
        "                                    50 * label_type + r[num_train:]))\n",
        "\n",
        "    # divide data and labels into the train and holdout sets\n",
        "    Xt = X[idx_train]\n",
        "    yt = y_numerical[idx_train]\n",
        "    Xh = X[idx_holdout]\n",
        "    yh = y_numerical[idx_holdout]\n",
        "\n",
        "    ########################\n",
        "    # YOUR CODE BELOW\n",
        "    # Solve for the LS weights\n",
        "\n",
        "    wt = np.linalg.inv(Xt.T@Xt)@Xt.T@yt\n",
        "\n",
        "\n",
        "    # Make predictions using the LS weights\n",
        "    yh_est = Xh@wt\n",
        "\n",
        "    # Turn the real-valued predictions into class labels\n",
        "    yh_rounded = np.round(yh_est)\n",
        "    yh_labels = np.clip(yh_rounded,-1,1)\n",
        "\n",
        "\n",
        "    # Compute the errors\n",
        "\n",
        "    # print(yh_rounded)\n",
        "    # print(yh_labels)\n",
        "    # print()\n",
        "    errs[i] = np.sum(yh_labels != yh)\n",
        "\n",
        "\n",
        "print(np.mean(errs) / 30)\n",
        "\n",
        "plt.hist(errs)\n",
        "plt.xlabel(\"# of errors\")\n",
        "plt.ylabel(\"Counts\")\n",
        "plt.show()\n"
      ],
      "metadata": {
        "colab": {
          "base_uri": "https://localhost:8080/",
          "height": 466
        },
        "id": "NNLyxRIhfTRG",
        "outputId": "d2012e57-4f2c-4888-c64f-8db051e066c0"
      },
      "execution_count": 104,
      "outputs": [
        {
          "output_type": "stream",
          "name": "stdout",
          "text": [
            "0.05691\n"
          ]
        },
        {
          "output_type": "display_data",
          "data": {
            "text/plain": [
              "<Figure size 640x480 with 1 Axes>"
            ],
            "image/png": "[encoded data removed]"
          },
          "metadata": {}
        }
      ]
    },
    {
      "cell_type": "code",
      "source": [
        "# Question 4 C\n",
        "import numpy as np\n",
        "import numpy.linalg as la\n",
        "\n",
        "p = np.array(\n",
        "[[4, 6, 0. ],\n",
        "[2, 3, 0. ],\n",
        "[0. , 3 , 1. ]]\n",
        ")\n",
        "\n",
        "x1 = p @ [1,0,0]\n",
        "x2 = p @ [0,1,0]\n",
        "u1 = x1 / la.norm(x1)\n",
        "r2 = x2 - u1 @ x2 * u1\n",
        "u2 = r2 / la.norm(r2)\n",
        "\n",
        "print(u1)\n",
        "print(u2)"
      ],
      "metadata": {
        "colab": {
          "base_uri": "https://localhost:8080/"
        },
        "id": "unBJQ5kQi7QO",
        "outputId": "69efc61f-4a1b-406b-b05b-0a4b91bf32b9"
      },
      "execution_count": 105,
      "outputs": [
        {
          "output_type": "stream",
          "name": "stdout",
          "text": [
            "[0.89442719 0.4472136  0.        ]\n",
            "[0. 0. 1.]\n"
          ]
        }
      ]
    }
  ]
}